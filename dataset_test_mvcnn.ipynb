{
 "cells": [
  {
   "cell_type": "markdown",
   "metadata": {},
   "source": [
    "# Dataset Test For MVCNN"
   ]
  },
  {
   "cell_type": "code",
   "execution_count": 1,
   "metadata": {},
   "outputs": [
    {
     "name": "stdout",
     "output_type": "stream",
     "text": [
      "Jupyter environment detected. Enabling Open3D WebVisualizer.\n",
      "[Open3D INFO] WebRTC GUI backend enabled.\n",
      "[Open3D INFO] WebRTCWindowSystem: HTTP handshake server disabled.\n"
     ]
    }
   ],
   "source": [
    "from hparams import HyperParameterMVCNN\n",
    "from modelnet40 import ModelNet40MultiView, ModelNet40SingleView\n",
    "\n",
    "hparams = HyperParameterMVCNN()\n",
    "svcnn_train_dataset = ModelNet40SingleView(\"train\", scale_aug=False, rot_aug=False,  num_views=hparams.num_views, shuffle=True)\n",
    "svcnn_val_dataset = ModelNet40SingleView(\"test\", scale_aug=False, rot_aug=False, num_views=hparams.num_views, shuffle=False)\n",
    "\n",
    "mvcnn_train_dataset = ModelNet40MultiView(\"train\", scale_aug=False, rot_aug=False, num_views=hparams.num_views, shuffle=True)\n",
    "mvcnn_val_dataset = ModelNet40MultiView(\"test\", scale_aug=False, rot_aug=False, num_views=hparams.num_views, shuffle=False)"
   ]
  },
  {
   "cell_type": "code",
   "execution_count": 2,
   "metadata": {},
   "outputs": [
    {
     "name": "stdout",
     "output_type": "stream",
     "text": [
      "118116\n",
      "29616\n",
      "9843\n",
      "2468\n"
     ]
    }
   ],
   "source": [
    "print(svcnn_train_dataset.__len__()) # 118116\n",
    "print(svcnn_val_dataset.__len__()) # 29616\n",
    "\n",
    "print(mvcnn_train_dataset.__len__()) # 9843\n",
    "print(mvcnn_val_dataset.__len__()) # 2468"
   ]
  },
  {
   "cell_type": "code",
   "execution_count": 3,
   "metadata": {},
   "outputs": [
    {
     "name": "stdout",
     "output_type": "stream",
     "text": [
      "torch.Size([3, 224, 224])\n"
     ]
    }
   ],
   "source": [
    "print(svcnn_train_dataset[0][1].shape) # torch.Size([3, 224, 224])"
   ]
  },
  {
   "cell_type": "code",
   "execution_count": 4,
   "metadata": {},
   "outputs": [
    {
     "name": "stdout",
     "output_type": "stream",
     "text": [
      "data/ModelNet40_renderings/piano/train/piano_0172/piano_0172_v003.png\n",
      "data/ModelNet40_renderings/table/train/table_0271/table_0271_v011.png\n",
      "data/ModelNet40_renderings/sofa/train/sofa_0558/sofa_0558_v002.png\n",
      "data/ModelNet40_renderings/airplane/test/airplane_0627/airplane_0627_v001.png\n"
     ]
    }
   ],
   "source": [
    "print(svcnn_train_dataset[0][2])\n",
    "print(svcnn_train_dataset[1][2])\n",
    "print(svcnn_train_dataset[3][2])\n",
    "print(svcnn_val_dataset[0][2]) # airplane_0627_v001.png"
   ]
  },
  {
   "cell_type": "code",
   "execution_count": 5,
   "metadata": {},
   "outputs": [
    {
     "name": "stdout",
     "output_type": "stream",
     "text": [
      "['data/ModelNet40_renderings/table/train/table_0268/table_0268_v001.png', 'data/ModelNet40_renderings/table/train/table_0268/table_0268_v002.png', 'data/ModelNet40_renderings/table/train/table_0268/table_0268_v003.png', 'data/ModelNet40_renderings/table/train/table_0268/table_0268_v004.png', 'data/ModelNet40_renderings/table/train/table_0268/table_0268_v005.png', 'data/ModelNet40_renderings/table/train/table_0268/table_0268_v006.png', 'data/ModelNet40_renderings/table/train/table_0268/table_0268_v007.png', 'data/ModelNet40_renderings/table/train/table_0268/table_0268_v008.png', 'data/ModelNet40_renderings/table/train/table_0268/table_0268_v009.png', 'data/ModelNet40_renderings/table/train/table_0268/table_0268_v010.png', 'data/ModelNet40_renderings/table/train/table_0268/table_0268_v011.png', 'data/ModelNet40_renderings/table/train/table_0268/table_0268_v012.png']\n",
      "['data/ModelNet40_renderings/plant/train/plant_0169/plant_0169_v001.png', 'data/ModelNet40_renderings/plant/train/plant_0169/plant_0169_v002.png', 'data/ModelNet40_renderings/plant/train/plant_0169/plant_0169_v003.png', 'data/ModelNet40_renderings/plant/train/plant_0169/plant_0169_v004.png', 'data/ModelNet40_renderings/plant/train/plant_0169/plant_0169_v005.png', 'data/ModelNet40_renderings/plant/train/plant_0169/plant_0169_v006.png', 'data/ModelNet40_renderings/plant/train/plant_0169/plant_0169_v007.png', 'data/ModelNet40_renderings/plant/train/plant_0169/plant_0169_v008.png', 'data/ModelNet40_renderings/plant/train/plant_0169/plant_0169_v009.png', 'data/ModelNet40_renderings/plant/train/plant_0169/plant_0169_v010.png', 'data/ModelNet40_renderings/plant/train/plant_0169/plant_0169_v011.png', 'data/ModelNet40_renderings/plant/train/plant_0169/plant_0169_v012.png']\n",
      "['data/ModelNet40_renderings/desk/train/desk_0140/desk_0140_v001.png', 'data/ModelNet40_renderings/desk/train/desk_0140/desk_0140_v002.png', 'data/ModelNet40_renderings/desk/train/desk_0140/desk_0140_v003.png', 'data/ModelNet40_renderings/desk/train/desk_0140/desk_0140_v004.png', 'data/ModelNet40_renderings/desk/train/desk_0140/desk_0140_v005.png', 'data/ModelNet40_renderings/desk/train/desk_0140/desk_0140_v006.png', 'data/ModelNet40_renderings/desk/train/desk_0140/desk_0140_v007.png', 'data/ModelNet40_renderings/desk/train/desk_0140/desk_0140_v008.png', 'data/ModelNet40_renderings/desk/train/desk_0140/desk_0140_v009.png', 'data/ModelNet40_renderings/desk/train/desk_0140/desk_0140_v010.png', 'data/ModelNet40_renderings/desk/train/desk_0140/desk_0140_v011.png', 'data/ModelNet40_renderings/desk/train/desk_0140/desk_0140_v012.png']\n",
      "['data/ModelNet40_renderings/airplane/test/airplane_0627/airplane_0627_v001.png', 'data/ModelNet40_renderings/airplane/test/airplane_0627/airplane_0627_v002.png', 'data/ModelNet40_renderings/airplane/test/airplane_0627/airplane_0627_v003.png', 'data/ModelNet40_renderings/airplane/test/airplane_0627/airplane_0627_v004.png', 'data/ModelNet40_renderings/airplane/test/airplane_0627/airplane_0627_v005.png', 'data/ModelNet40_renderings/airplane/test/airplane_0627/airplane_0627_v006.png', 'data/ModelNet40_renderings/airplane/test/airplane_0627/airplane_0627_v007.png', 'data/ModelNet40_renderings/airplane/test/airplane_0627/airplane_0627_v008.png', 'data/ModelNet40_renderings/airplane/test/airplane_0627/airplane_0627_v009.png', 'data/ModelNet40_renderings/airplane/test/airplane_0627/airplane_0627_v010.png', 'data/ModelNet40_renderings/airplane/test/airplane_0627/airplane_0627_v011.png', 'data/ModelNet40_renderings/airplane/test/airplane_0627/airplane_0627_v012.png']\n"
     ]
    }
   ],
   "source": [
    "print(mvcnn_train_dataset[0][2])\n",
    "print(mvcnn_train_dataset[1][2])\n",
    "print(mvcnn_train_dataset[3][2])\n",
    "print(mvcnn_val_dataset[0][2]) #airplane_0627_vxxx.png"
   ]
  }
 ],
 "metadata": {
  "kernelspec": {
   "display_name": "Python 3.8.10 64-bit",
   "language": "python",
   "name": "python3"
  },
  "language_info": {
   "codemirror_mode": {
    "name": "ipython",
    "version": 3
   },
   "file_extension": ".py",
   "mimetype": "text/x-python",
   "name": "python",
   "nbconvert_exporter": "python",
   "pygments_lexer": "ipython3",
   "version": "3.8.10"
  },
  "orig_nbformat": 4,
  "vscode": {
   "interpreter": {
    "hash": "916dbcbb3f70747c44a77c7bcd40155683ae19c65e1c03b4aa3499c5328201f1"
   }
  }
 },
 "nbformat": 4,
 "nbformat_minor": 2
}
