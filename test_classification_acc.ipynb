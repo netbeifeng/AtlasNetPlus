{
 "cells": [
  {
   "cell_type": "markdown",
   "metadata": {},
   "source": [
    "# Test SVCNN Classification"
   ]
  },
  {
   "cell_type": "code",
   "execution_count": 27,
   "metadata": {},
   "outputs": [
    {
     "name": "stdout",
     "output_type": "stream",
     "text": [
      "Accuaracy: 90.63344%\n"
     ]
    }
   ],
   "source": [
    "from model.mvcnn import SVCNN\n",
    "from modelnet40 import ModelNet40SingleView\n",
    "import torch\n",
    "import numpy as np\n",
    "from torch.autograd import Variable\n",
    "\n",
    "calc_accuracy = True\n",
    "\n",
    "svcnn = SVCNN()\n",
    "svcnn.load_state_dict(torch.load(\"pretrained/svcnn.pth\"))\n",
    "svcnn.eval()\n",
    "\n",
    "val_dataset = ModelNet40SingleView(\"test\", shuffle=False)\n",
    "# indices = np.random.randint(low=0, high=val_dataset.__len__() ,size=100)\n",
    "svcnn(val_dataset[1][1].unsqueeze(0))\n",
    "\n",
    "if calc_accuracy:\n",
    "    counter = 0\n",
    "    for i in range(0, val_dataset.__len__()):\n",
    "        sample = val_dataset[i][1]\n",
    "        C,H,W = sample.size()\n",
    "        in_data = Variable(sample).view(C,H,W)\n",
    "        out_data = svcnn(in_data.unsqueeze(0))\n",
    "        pred = torch.max(out_data, 1)[1]\n",
    "        if val_dataset[i][0] == int(pred):\n",
    "            counter += 1\n",
    "        \n",
    "    print(f\"Accuaracy: {counter/val_dataset.__len__()*100:.5f}%\") # "
   ]
  },
  {
   "cell_type": "markdown",
   "metadata": {},
   "source": [
    "# Test MVCNN Classification"
   ]
  },
  {
   "cell_type": "code",
   "execution_count": 30,
   "metadata": {},
   "outputs": [
    {
     "name": "stdout",
     "output_type": "stream",
     "text": [
      "Accuaracy: 93.67909%\n"
     ]
    }
   ],
   "source": [
    "from model.mvcnn import MVCNN\n",
    "from modelnet40 import ModelNet40MultiView\n",
    "import torch\n",
    "import numpy as np\n",
    "from torch.autograd import Variable\n",
    "\n",
    "calc_accuracy = True\n",
    "\n",
    "mvcnn = MVCNN()\n",
    "mvcnn.load_state_dict(torch.load(\"pretrained/mvcnn.pth\"))\n",
    "mvcnn.eval()\n",
    "\n",
    "val_dataset = ModelNet40MultiView(\"test\", shuffle=False)\n",
    "# indices = np.random.randint(low=0, high=val_dataset.__len__() ,size=100)\n",
    "\n",
    "mvcnn(val_dataset[1][1])\n",
    "\n",
    "if calc_accuracy:\n",
    "    counter = 0\n",
    "    for i in range(0, val_dataset.__len__()):\n",
    "        sample = val_dataset[i][1]\n",
    "        V,C,H,W = sample.size()\n",
    "        in_data = Variable(sample).view(-1,C,H,W)\n",
    "        out_data = mvcnn(in_data)\n",
    "        pred = torch.max(out_data, 1)[1]\n",
    "        if val_dataset[i][0] == int(pred):\n",
    "            counter += 1\n",
    "        \n",
    "    print(f\"Accuaracy: {counter/val_dataset.__len__()*100:.5f}%\") # "
   ]
  },
  {
   "cell_type": "markdown",
   "metadata": {},
   "source": [
    "# Test PointNet Classification"
   ]
  },
  {
   "cell_type": "code",
   "execution_count": 2,
   "metadata": {},
   "outputs": [
    {
     "name": "stdout",
     "output_type": "stream",
     "text": [
      "Encoder-PointNet initialized.\n",
      "Every prim has 2000 points\n",
      "New MLP decoder : hidden size 512, num_layers 2, activation relu\n",
      "Decoder-AtlasNet initialized.\n",
      "Loading Model ...\n",
      "Model loaded.\n",
      "PointNet Accuaracy: 88.89789%\n"
     ]
    }
   ],
   "source": [
    "from modelnet40 import ModelNet40AtlasNet\n",
    "from hparams import HyperParameter\n",
    "from model.network import BackboneNetwork\n",
    "import torch\n",
    "\n",
    "ATLAS_TEST = ModelNet40AtlasNet(\"test\", shuffle=False, pcd_normalization=\"UnitBall\",  \n",
    "                                img_normalization=True, inference= True, num_point=2000)\n",
    "\n",
    "\n",
    "hparams = HyperParameter()\n",
    "hparams.load('pretrained/pointnet_hparams.yaml')\n",
    "hparams.use_pre_trained_encoder = False\n",
    "hparams.use_pre_trained_decoder = False\n",
    "\n",
    "model = BackboneNetwork(hparams)\n",
    "print(\"Loading Model ...\")\n",
    "model.load_state_dict(torch.load('pretrained/pointnet.pth',map_location='cpu'))\n",
    "print(\"Model loaded.\")\n",
    "model.eval()\n",
    "\n",
    "counter = 0\n",
    "for i in range(0, ATLAS_TEST.__len__()):\n",
    "    sample = ATLAS_TEST[i]['pointcloud'].float().transpose(1,2)\n",
    "    out_data = model.forward(sample, classification=True)\n",
    "    pred = torch.max(out_data, 1)[1]\n",
    "    if int(pred) == ATLAS_TEST[i]['class_id']:\n",
    "        counter+=1\n",
    "        \n",
    "print(f\"PointNet Accuaracy: {counter/ATLAS_TEST.__len__()*100:.5f}%\")"
   ]
  }
 ],
 "metadata": {
  "kernelspec": {
   "display_name": "Python 3.7.13 64-bit",
   "language": "python",
   "name": "python3"
  },
  "language_info": {
   "codemirror_mode": {
    "name": "ipython",
    "version": 3
   },
   "file_extension": ".py",
   "mimetype": "text/x-python",
   "name": "python",
   "nbconvert_exporter": "python",
   "pygments_lexer": "ipython3",
   "version": "3.7.13"
  },
  "orig_nbformat": 4,
  "vscode": {
   "interpreter": {
    "hash": "fd69f43f58546b570e94fd7eba7b65e6bcc7a5bbc4eab0408017d18902915d69"
   }
  }
 },
 "nbformat": 4,
 "nbformat_minor": 2
}
